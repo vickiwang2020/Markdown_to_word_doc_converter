{
 "cells": [
  {
   "cell_type": "code",
   "execution_count": 1,
   "id": "d1b8d612-ec32-4057-972b-c2598d0d18f7",
   "metadata": {},
   "outputs": [
    {
     "name": "stdout",
     "output_type": "stream",
     "text": [
      "Collecting pypandoc\n",
      "  Downloading pypandoc-1.13-py3-none-any.whl.metadata (16 kB)\n",
      "Downloading pypandoc-1.13-py3-none-any.whl (21 kB)\n",
      "Installing collected packages: pypandoc\n",
      "Successfully installed pypandoc-1.13\n",
      "Note: you may need to restart the kernel to use updated packages.\n"
     ]
    }
   ],
   "source": [
    "pip install pypandoc"
   ]
  },
  {
   "cell_type": "code",
   "execution_count": 6,
   "id": "4c56990f-2695-451c-91ac-53f935421b64",
   "metadata": {},
   "outputs": [
    {
     "name": "stdout",
     "output_type": "stream",
     "text": [
      "\u001b[31mERROR: Could not find a version that satisfies the requirement os (from versions: none)\u001b[0m\u001b[31m\n",
      "\u001b[0m\u001b[31mERROR: No matching distribution found for os\u001b[0m\u001b[31m\n",
      "\u001b[0mNote: you may need to restart the kernel to use updated packages.\n"
     ]
    }
   ],
   "source": [
    "pip install os"
   ]
  },
  {
   "cell_type": "code",
   "execution_count": 6,
   "id": "bf2bc0c8-0277-4565-8a34-350acaee9581",
   "metadata": {},
   "outputs": [
    {
     "name": "stdout",
     "output_type": "stream",
     "text": [
      "Conversion successful: /Users/vickiw/Documents/Convert/MD/cloudassess.md to /Users/vickiw/Documents/Convert/DOC/cloudassess.DOCX\n",
      "Conversion successful: /Users/vickiw/Documents/Convert/MD/dbaas_m3.md to /Users/vickiw/Documents/Convert/DOC/dbaas_m3.DOCX\n",
      "Conversion successful: /Users/vickiw/Documents/Convert/MD/hsm-certs.md to /Users/vickiw/Documents/Convert/DOC/hsm-certs.DOCX\n",
      "An error occurred: Pandoc died with exitcode \"1\" during conversion: pandoc: /hsm/hsm-overview.png: withBinaryFile: does not exist (No such file or directory)\n",
      "\n",
      "An error occurred: Pandoc died with exitcode \"1\" during conversion: pandoc: /hsm/hsm-overview.png: withBinaryFile: does not exist (No such file or directory)\n",
      "\n",
      "Conversion successful: /Users/vickiw/Documents/Convert/MD/object-storage-bucket-lifecycle.md to /Users/vickiw/Documents/Convert/DOC/object-storage-bucket-lifecycle.DOCX\n",
      "Conversion successful: /Users/vickiw/Documents/Convert/MD/psp.md to /Users/vickiw/Documents/Convert/DOC/psp.DOCX\n"
     ]
    },
    {
     "name": "stderr",
     "output_type": "stream",
     "text": [
      "[WARNING] Could not fetch resource support/Standard-Support-Process-MVP-OH.png: replacing image with description\n",
      "\n"
     ]
    },
    {
     "name": "stdout",
     "output_type": "stream",
     "text": [
      "Conversion successful: /Users/vickiw/Documents/Convert/MD/support-plans.md to /Users/vickiw/Documents/Convert/DOC/support-plans.DOCX\n",
      "Conversion successful: /Users/vickiw/Documents/Convert/MD/sustainability_program.md to /Users/vickiw/Documents/Convert/DOC/sustainability.DOCX\n",
      "Conversion successful: /Users/vickiw/Documents/Convert/MD/usage-reports.md to /Users/vickiw/Documents/Convert/DOC/usage-reports.DOCX\n",
      "Conversion successful: /Users/vickiw/Documents/Convert/MD/user_roles.md to /Users/vickiw/Documents/Convert/DOC/user_roles.DOCX\n"
     ]
    }
   ],
   "source": [
    "import pypandoc\n",
    "import os\n",
    "\n",
    "def convert_md_to_docx(md_file_path, docx_file_path):\n",
    "    \"\"\"\n",
    "    Converts a Markdown file to a DOCX file.\n",
    "\n",
    "    :param md_file_path: Path to the input Markdown file\n",
    "    :param docx_file_path: Path to the output DOCX file\n",
    "    \"\"\"\n",
    "    try:\n",
    "        # Convert Markdown to DOCX\n",
    "        output = pypandoc.convert_file(md_file_path, 'docx', outputfile=docx_file_path)\n",
    "        # Check if the conversion was successful\n",
    "        if output:\n",
    "            print(\"Conversion successful with message: \", output)\n",
    "        else:\n",
    "            print(f\"Conversion successful: {md_file_path} to {docx_file_path}\")\n",
    "    except Exception as e:\n",
    "        print(f\"An error occurred: {e}\")\n",
    "\n",
    "# Example usage with multiple files:\n",
    "file_pairs = [\n",
    "    (os.path.expanduser('~/Documents/Convert/MD/cloudassess.md'), os.path.expanduser('~/Documents/Convert/DOC/cloudassess.DOCX')),\n",
    "    (os.path.expanduser('~/Documents/Convert/MD/dbaas_m3.md'), os.path.expanduser('~/Documents/Convert/DOC/dbaas_m3.DOCX')),\n",
    "    (os.path.expanduser('~/Documents/Convert/MD/hsm-certs.md'), os.path.expanduser('~/Documents/Convert/DOC/hsm-certs.DOCX')),\n",
    "    (os.path.expanduser('~/Documents/Convert/MD/hsm-secrets.md'), os.path.expanduser('~/Documents/Convert/DOC/hsm-secrets.DOCX')),\n",
    "    (os.path.expanduser('~/Documents/Convert/MD/kms.md'), os.path.expanduser('~/Documents/Convert/DOC/kms.DOCX')),\n",
    "    (os.path.expanduser('~/Documents/Convert/MD/object-storage-bucket-lifecycle.md'), os.path.expanduser('~/Documents/Convert/DOC/object-storage-bucket-lifecycle.DOCX')),\n",
    "    (os.path.expanduser('~/Documents/Convert/MD/psp.md'), os.path.expanduser('~/Documents/Convert/DOC/psp.DOCX')),\n",
    "    (os.path.expanduser('~/Documents/Convert/MD/support-plans.md'), os.path.expanduser('~/Documents/Convert/DOC/support-plans.DOCX')),\n",
    "    (os.path.expanduser('~/Documents/Convert/MD/sustainability_program.md'), os.path.expanduser('~/Documents/Convert/DOC/sustainability.DOCX')),\n",
    "    (os.path.expanduser('~/Documents/Convert/MD/usage-reports.md'), os.path.expanduser('~/Documents/Convert/DOC/usage-reports.DOCX')),\n",
    "    (os.path.expanduser('~/Documents/Convert/MD/user_roles.md'), os.path.expanduser('~/Documents/Convert/DOC/user_roles.DOCX'))\n",
    "    \n",
    "    # Add more file pairs as needed\n",
    "]\n",
    "\n",
    "for md_file_path, docx_file_path in file_pairs:\n",
    "    # Ensure the input file exists\n",
    "    if os.path.isfile(md_file_path):\n",
    "        convert_md_to_docx(md_file_path, docx_file_path)\n",
    "    else:\n",
    "        print(f\"Markdown file does not exist: {md_file_path}\")\n"
   ]
  },
  {
   "cell_type": "code",
   "execution_count": 7,
   "id": "89e80052-9cb4-4a12-a85a-2bbbca658da6",
   "metadata": {},
   "outputs": [
    {
     "name": "stdout",
     "output_type": "stream",
     "text": [
      "An error occurred: Pandoc died with exitcode \"1\" during conversion: pandoc: /hsm/hsm-overview.png: withBinaryFile: does not exist (No such file or directory)\n",
      "\n"
     ]
    }
   ],
   "source": [
    "import pypandoc\n",
    "import os\n",
    "\n",
    "def convert_md_to_docx(md_file_path, docx_file_path):\n",
    "    \"\"\"\n",
    "    Converts a Markdown file to a DOCX file.\n",
    "\n",
    "    :param md_file_path: Path to the input Markdown file\n",
    "    :param docx_file_path: Path to the output DOCX file\n",
    "    \"\"\"\n",
    "    try:\n",
    "        # Convert Markdown to DOCX\n",
    "        output = pypandoc.convert_file(md_file_path, 'docx', outputfile=docx_file_path)\n",
    "        # Check if the conversion was successful\n",
    "        if output:\n",
    "            print(\"Conversion successful with message: \", output)\n",
    "        else:\n",
    "            print(f\"Conversion successful: {md_file_path} to {docx_file_path}\")\n",
    "    except Exception as e:\n",
    "        print(f\"An error occurred: {e}\")\n",
    "\n",
    "# Example usage:\n",
    "md_file_path = os.path.expanduser('~/Documents/Convert/MD/kms.md')\n",
    "docx_file_path = os.path.expanduser('~/Documents/Convert/DOC/kms.DOCX')\n",
    "\n",
    "# Ensure the input file exists\n",
    "if os.path.isfile(md_file_path):\n",
    "    convert_md_to_docx(md_file_path, docx_file_path)\n",
    "else:\n",
    "    print(f\"Markdown file does not exist: {md_file_path}\")\n"
   ]
  },
  {
   "cell_type": "code",
   "execution_count": 10,
   "id": "8cbd961d-bd7c-478f-b274-ed19e023267d",
   "metadata": {},
   "outputs": [
    {
     "name": "stdout",
     "output_type": "stream",
     "text": [
      "Conversion successful: /Users/vickiw/Documents/Convert/MD/kms.md to /Users/vickiw/Documents/Convert/DOC/kms.DOCX\n"
     ]
    }
   ],
   "source": [
    "import pypandoc\n",
    "import os\n",
    "\n",
    "def check_referenced_files(md_file_path):\n",
    "    \"\"\"\n",
    "    Check if all referenced files in the Markdown file exist.\n",
    "    \n",
    "    :param md_file_path: Path to the input Markdown file\n",
    "    :return: List of missing files\n",
    "    \"\"\"\n",
    "    missing_files = []\n",
    "    with open(md_file_path, 'r') as file:\n",
    "        for line in file:\n",
    "            if '![' in line and '](' in line:\n",
    "                # Extract the file path\n",
    "                start_idx = line.find('](') + 2\n",
    "                end_idx = line.find(')', start_idx)\n",
    "                file_path = line[start_idx:end_idx]\n",
    "                # Expand user directory and check file existence\n",
    "                file_path = os.path.expanduser(file_path)\n",
    "                if not os.path.isabs(file_path):\n",
    "                    file_path = os.path.join(os.path.dirname(md_file_path), file_path)\n",
    "                if not os.path.isfile(file_path):\n",
    "                    missing_files.append(file_path)\n",
    "    return missing_files\n",
    "\n",
    "def convert_md_to_docx(md_file_path, docx_file_path):\n",
    "    \"\"\"\n",
    "    Converts a Markdown file to a DOCX file.\n",
    "\n",
    "    :param md_file_path: Path to the input Markdown file\n",
    "    :param docx_file_path: Path to the output DOCX file\n",
    "    \"\"\"\n",
    "    try:\n",
    "        # Check for missing files\n",
    "        missing_files = check_referenced_files(md_file_path)\n",
    "        if missing_files:\n",
    "            print(f\"Missing files: {missing_files}\")\n",
    "            return\n",
    "\n",
    "        # Convert Markdown to DOCX\n",
    "        output = pypandoc.convert_file(md_file_path, 'docx', outputfile=docx_file_path)\n",
    "        # Check if the conversion was successful\n",
    "        if output:\n",
    "            print(\"Conversion successful with message: \", output)\n",
    "        else:\n",
    "            print(f\"Conversion successful: {md_file_path} to {docx_file_path}\")\n",
    "    except Exception as e:\n",
    "        print(f\"An error occurred: {e}\")\n",
    "\n",
    "# Example usage with multiple files:\n",
    "file_pairs = [\n",
    "    (os.path.expanduser('~/Documents/Convert/MD/kms.md'), os.path.expanduser('~/Documents/Convert/DOC/kms.DOCX'))\n",
    "    # Add more file pairs as needed\n",
    "]\n",
    "\n",
    "for md_file_path, docx_file_path in file_pairs:\n",
    "    # Ensure the input file exists\n",
    "    if os.path.isfile(md_file_path):\n",
    "        convert_md_to_docx(md_file_path, docx_file_path)\n",
    "    else:\n",
    "        print(f\"Markdown file does not exist: {md_file_path}\")\n"
   ]
  },
  {
   "cell_type": "code",
   "execution_count": null,
   "id": "54ec7fa5-e133-4b80-a9ac-a0c448004ad6",
   "metadata": {},
   "outputs": [],
   "source": []
  }
 ],
 "metadata": {
  "kernelspec": {
   "display_name": "Python 3 (ipykernel)",
   "language": "python",
   "name": "python3"
  },
  "language_info": {
   "codemirror_mode": {
    "name": "ipython",
    "version": 3
   },
   "file_extension": ".py",
   "mimetype": "text/x-python",
   "name": "python",
   "nbconvert_exporter": "python",
   "pygments_lexer": "ipython3",
   "version": "3.12.2"
  }
 },
 "nbformat": 4,
 "nbformat_minor": 5
}
